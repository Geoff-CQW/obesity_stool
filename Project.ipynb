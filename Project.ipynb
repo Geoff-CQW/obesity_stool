{
 "cells": [
  {
   "cell_type": "markdown",
   "id": "cce71367",
   "metadata": {},
   "source": [
    "<h3>Stool microbiome and diabetes </h3>\n",
    "\n",
    "The microbiome refers to all the microorganisms that live on or within the human body. Microorganisms can be found thriving in many sites of the body, including the skin, uterus, mouth and gastrointestinal tract. In fact it is estimated that there are more bacteria than cells in the human body, thus it is not surprising that some studies have shown the microbiome has a significant impact on physical and even mental health. We have so much interdependence with the bacteria living on or in us, some studies have shown that the species composition of the gut microbiome is associated with many diseases, from cancer to metabolic syndrome. There is crosstalk between our body and the microbiome, our lifestyles and habits can alter the communities of our microbiome; their diversity and composition in turn affect our health.\n",
    "\n",
    "My graduate research was on microbiology so I am quite interested in the composition of an individual's stool microbiome and their physical status, in this case, whether the person is obsese or not. I am particularly curious about the genus/species of bacteria that the model finds to be important for the prediction.\n",
    "\n",
    "The dataset I'm using is a human metagenomics dataset from Kaggle which can be found [here](https://www.kaggle.com/antaresnyc/human-metagenomics?select=abundance_stoolsubset.csv).\n",
    "\n",
    "All credits to the original authors of the study and Kaggle user Alexey Kotlik who uploaded it."
   ]
  },
  {
   "cell_type": "code",
   "execution_count": 1,
   "id": "f6903b1a",
   "metadata": {},
   "outputs": [],
   "source": [
    "### import packages ###\n",
    "\n",
    "import numpy as np\n",
    "import pandas as pd\n",
    "import matplotlib.pyplot as plt\n",
    "import seaborn as sns\n",
    "import re"
   ]
  },
  {
   "cell_type": "code",
   "execution_count": 2,
   "id": "cc502014",
   "metadata": {},
   "outputs": [],
   "source": [
    "### import raw data\n",
    "\n",
    "data = pd.read_csv('metagenomics/abundance_stoolsubset.csv', dtype='str')\n",
    "cols = data.columns\n",
    "\n",
    "def warn(*args, **kwargs):\n",
    "    pass\n",
    "import warnings\n",
    "warnings.warn = warn"
   ]
  },
  {
   "cell_type": "code",
   "execution_count": 4,
   "id": "4ae9e969",
   "metadata": {},
   "outputs": [
    {
     "name": "stdout",
     "output_type": "stream",
     "text": [
      "sample dimensions are 1989 rows by 2339 columns\n",
      "\n"
     ]
    },
    {
     "data": {
      "text/html": [
       "<div>\n",
       "<style scoped>\n",
       "    .dataframe tbody tr th:only-of-type {\n",
       "        vertical-align: middle;\n",
       "    }\n",
       "\n",
       "    .dataframe tbody tr th {\n",
       "        vertical-align: top;\n",
       "    }\n",
       "\n",
       "    .dataframe thead th {\n",
       "        text-align: right;\n",
       "    }\n",
       "</style>\n",
       "<table border=\"1\" class=\"dataframe\">\n",
       "  <thead>\n",
       "    <tr style=\"text-align: right;\">\n",
       "      <th></th>\n",
       "      <th>dataset_name</th>\n",
       "      <th>sampleID</th>\n",
       "      <th>subjectID</th>\n",
       "      <th>bodysite</th>\n",
       "      <th>disease</th>\n",
       "      <th>age</th>\n",
       "      <th>gender</th>\n",
       "      <th>country</th>\n",
       "      <th>sequencing_technology</th>\n",
       "      <th>pubmedid</th>\n",
       "      <th>...</th>\n",
       "      <th>k__Bacteria|p__Firmicutes|c__Bacilli|o__Lactobacillales|f__Enterococcaceae|g__Enterococcus|s__Enterococcus_gilvus|t__Enterococcus_gilvus_unclassified</th>\n",
       "      <th>k__Bacteria|p__Firmicutes|c__Bacilli|o__Lactobacillales|f__Lactobacillaceae|g__Lactobacillus|s__Lactobacillus_otakiensis</th>\n",
       "      <th>k__Bacteria|p__Firmicutes|c__Bacilli|o__Lactobacillales|f__Lactobacillaceae|g__Lactobacillus|s__Lactobacillus_otakiensis|t__GCF_000415925</th>\n",
       "      <th>k__Bacteria|p__Firmicutes|c__Clostridia|o__Clostridiales|f__Peptococcaceae</th>\n",
       "      <th>k__Bacteria|p__Firmicutes|c__Clostridia|o__Clostridiales|f__Peptococcaceae|g__Desulfotomaculum</th>\n",
       "      <th>k__Bacteria|p__Firmicutes|c__Clostridia|o__Clostridiales|f__Peptococcaceae|g__Desulfotomaculum|s__Desulfotomaculum_ruminis</th>\n",
       "      <th>k__Bacteria|p__Firmicutes|c__Clostridia|o__Clostridiales|f__Peptococcaceae|g__Desulfotomaculum|s__Desulfotomaculum_ruminis|t__GCF_000215085</th>\n",
       "      <th>k__Bacteria|p__Firmicutes|c__Clostridia|o__Clostridiales|f__Ruminococcaceae|g__Faecalibacterium|s__Faecalibacterium_prausnitzii|t__GCF_000209855</th>\n",
       "      <th>k__Bacteria|p__Firmicutes|c__Negativicutes|o__Selenomonadales|f__Veillonellaceae|g__Megasphaera|s__Megasphaera_sp_BV3C16_1</th>\n",
       "      <th>k__Bacteria|p__Firmicutes|c__Negativicutes|o__Selenomonadales|f__Veillonellaceae|g__Megasphaera|s__Megasphaera_sp_BV3C16_1|t__GCF_000478965</th>\n",
       "    </tr>\n",
       "  </thead>\n",
       "  <tbody>\n",
       "    <tr>\n",
       "      <th>0</th>\n",
       "      <td>Candela_Africa</td>\n",
       "      <td>H10</td>\n",
       "      <td>h10</td>\n",
       "      <td>stool</td>\n",
       "      <td>n</td>\n",
       "      <td>40</td>\n",
       "      <td>female</td>\n",
       "      <td>tanzania</td>\n",
       "      <td>Illumina</td>\n",
       "      <td>25981789</td>\n",
       "      <td>...</td>\n",
       "      <td>0</td>\n",
       "      <td>0</td>\n",
       "      <td>0</td>\n",
       "      <td>0</td>\n",
       "      <td>0</td>\n",
       "      <td>0</td>\n",
       "      <td>0</td>\n",
       "      <td>0</td>\n",
       "      <td>0</td>\n",
       "      <td>0</td>\n",
       "    </tr>\n",
       "    <tr>\n",
       "      <th>1</th>\n",
       "      <td>Candela_Africa</td>\n",
       "      <td>H11</td>\n",
       "      <td>h11</td>\n",
       "      <td>stool</td>\n",
       "      <td>n</td>\n",
       "      <td>29</td>\n",
       "      <td>female</td>\n",
       "      <td>tanzania</td>\n",
       "      <td>Illumina</td>\n",
       "      <td>25981789</td>\n",
       "      <td>...</td>\n",
       "      <td>0</td>\n",
       "      <td>0</td>\n",
       "      <td>0</td>\n",
       "      <td>0</td>\n",
       "      <td>0</td>\n",
       "      <td>0</td>\n",
       "      <td>0</td>\n",
       "      <td>0</td>\n",
       "      <td>0</td>\n",
       "      <td>0</td>\n",
       "    </tr>\n",
       "  </tbody>\n",
       "</table>\n",
       "<p>2 rows × 2339 columns</p>\n",
       "</div>"
      ],
      "text/plain": [
       "     dataset_name sampleID subjectID bodysite disease age  gender   country  \\\n",
       "0  Candela_Africa      H10       h10    stool       n  40  female  tanzania   \n",
       "1  Candela_Africa      H11       h11    stool       n  29  female  tanzania   \n",
       "\n",
       "  sequencing_technology  pubmedid  ...  \\\n",
       "0              Illumina  25981789  ...   \n",
       "1              Illumina  25981789  ...   \n",
       "\n",
       "  k__Bacteria|p__Firmicutes|c__Bacilli|o__Lactobacillales|f__Enterococcaceae|g__Enterococcus|s__Enterococcus_gilvus|t__Enterococcus_gilvus_unclassified  \\\n",
       "0                                                  0                                                                                                      \n",
       "1                                                  0                                                                                                      \n",
       "\n",
       "  k__Bacteria|p__Firmicutes|c__Bacilli|o__Lactobacillales|f__Lactobacillaceae|g__Lactobacillus|s__Lactobacillus_otakiensis  \\\n",
       "0                                                  0                                                                         \n",
       "1                                                  0                                                                         \n",
       "\n",
       "  k__Bacteria|p__Firmicutes|c__Bacilli|o__Lactobacillales|f__Lactobacillaceae|g__Lactobacillus|s__Lactobacillus_otakiensis|t__GCF_000415925  \\\n",
       "0                                                  0                                                                                          \n",
       "1                                                  0                                                                                          \n",
       "\n",
       "  k__Bacteria|p__Firmicutes|c__Clostridia|o__Clostridiales|f__Peptococcaceae  \\\n",
       "0                                                  0                           \n",
       "1                                                  0                           \n",
       "\n",
       "  k__Bacteria|p__Firmicutes|c__Clostridia|o__Clostridiales|f__Peptococcaceae|g__Desulfotomaculum  \\\n",
       "0                                                  0                                               \n",
       "1                                                  0                                               \n",
       "\n",
       "  k__Bacteria|p__Firmicutes|c__Clostridia|o__Clostridiales|f__Peptococcaceae|g__Desulfotomaculum|s__Desulfotomaculum_ruminis  \\\n",
       "0                                                  0                                                                           \n",
       "1                                                  0                                                                           \n",
       "\n",
       "  k__Bacteria|p__Firmicutes|c__Clostridia|o__Clostridiales|f__Peptococcaceae|g__Desulfotomaculum|s__Desulfotomaculum_ruminis|t__GCF_000215085  \\\n",
       "0                                                  0                                                                                            \n",
       "1                                                  0                                                                                            \n",
       "\n",
       "  k__Bacteria|p__Firmicutes|c__Clostridia|o__Clostridiales|f__Ruminococcaceae|g__Faecalibacterium|s__Faecalibacterium_prausnitzii|t__GCF_000209855  \\\n",
       "0                                                  0                                                                                                 \n",
       "1                                                  0                                                                                                 \n",
       "\n",
       "  k__Bacteria|p__Firmicutes|c__Negativicutes|o__Selenomonadales|f__Veillonellaceae|g__Megasphaera|s__Megasphaera_sp_BV3C16_1  \\\n",
       "0                                                  0                                                                           \n",
       "1                                                  0                                                                           \n",
       "\n",
       "  k__Bacteria|p__Firmicutes|c__Negativicutes|o__Selenomonadales|f__Veillonellaceae|g__Megasphaera|s__Megasphaera_sp_BV3C16_1|t__GCF_000478965  \n",
       "0                                                  0                                                                                           \n",
       "1                                                  0                                                                                           \n",
       "\n",
       "[2 rows x 2339 columns]"
      ]
     },
     "execution_count": 4,
     "metadata": {},
     "output_type": "execute_result"
    }
   ],
   "source": [
    "# Let's take a look at the raw data\n",
    "\n",
    "print('sample dimensions are {} rows by {} columns'.format(data.shape[0], data.shape[1]))\n",
    "print('')\n",
    "data.head(2)"
   ]
  },
  {
   "cell_type": "markdown",
   "id": "31772ba2",
   "metadata": {},
   "source": [
    "This dataset is pretty high dimensional with 2339 columns, but most of the columns are not really relevant to what I'm doing. Gender, age and country is available too, which gives me an idea to try something similar to this but see if I can differentiate gender or location based on microbiome. But that'll be something for the future.\n",
    "\n",
    "Since I'm interested in obesity, I'll filter for that data with indicators of obesity and normal individuals. I got my BMI categories here from [NIH](https://www.nhlbi.nih.gov/health/educational/lose_wt/BMI/bmicalc.htm), which is:\n",
    "\n",
    "<style type=\"text/css\">\n",
    ".tg  {border-collapse:collapse;border-spacing:0;}\n",
    ".tg td{border-color:black;border-style:solid;border-width:1px;font-family:Arial, sans-serif;font-size:14px;\n",
    "  overflow:hidden;padding:10px 5px;word-break:normal;}\n",
    ".tg th{border-color:black;border-style:solid;border-width:1px;font-family:Arial, sans-serif;font-size:14px;\n",
    "  font-weight:normal;overflow:hidden;padding:10px 5px;word-break:normal;}\n",
    ".tg .tg-c3ow{border-color:inherit;text-align:center;vertical-align:top}\n",
    "</style>\n",
    "<table class=\"tg\">\n",
    "<thead>\n",
    "  <tr>\n",
    "    <th class=\"tg-c3ow\">Underweight</th>\n",
    "    <th class=\"tg-c3ow\">&lt;18.5</th>\n",
    "  </tr>\n",
    "</thead>\n",
    "<tbody>\n",
    "  <tr>\n",
    "    <td class=\"tg-c3ow\">Normal</td>\n",
    "    <td class=\"tg-c3ow\">18.5-24.9</td>\n",
    "  </tr>\n",
    "  <tr>\n",
    "    <td class=\"tg-c3ow\">Overweight</td>\n",
    "    <td class=\"tg-c3ow\">25-29.9</td>\n",
    "  </tr>\n",
    "  <tr>\n",
    "    <td class=\"tg-c3ow\">Obesity</td>\n",
    "    <td class=\"tg-c3ow\">&gt;=30</td>\n",
    "  </tr>\n",
    "</tbody>\n",
    "</table>"
   ]
  },
  {
   "cell_type": "markdown",
   "id": "5e20f217",
   "metadata": {},
   "source": [
    "In the cell below, I drop the columns which I won't be using, except for some that identifies where the sample is from. I won't be using data from individuals with other diseases, only those who are healthy or obese, so as to not add any confounding variables or other complications in the modeling."
   ]
  },
  {
   "cell_type": "code",
   "execution_count": 118,
   "id": "612ffafe",
   "metadata": {
    "tags": []
   },
   "outputs": [],
   "source": [
    "### preprocess data ###\n",
    "\n",
    "# filter for categories of interest\n",
    "\n",
    "processed = data[data['disease'].isin(['obesity', 'obese', 'overweight','leaness', 'n'])].copy()\n",
    "\n",
    "# drop columns that are not needed\n",
    "to_drop = list(cols[2:4]) + list(cols[8:20]) + list(cols[21:211])\n",
    "processed.drop(columns = to_drop, inplace = True)\n",
    "\n",
    "# remove samples without bmi, convert bmi and abundance to float and filter for regular weight and obese\n",
    "processed = processed[~processed['bmi'].isin(['na', 'nd'])]\n",
    "\n",
    "processed['bmi'] = pd.to_numeric(processed['bmi'], downcast ='float')\n",
    "\n",
    "processed.iloc[:, 7:] = processed.iloc[:, 7:].apply(pd.to_numeric)\n",
    "\n",
    "\n",
    "# create labels for classification\n",
    "\n",
    "bmi = [(processed['bmi'] >= 18.5) & (processed['bmi'] < 25), (processed['bmi'] >= 25) & (processed['bmi'] < 30), processed['bmi'] >= 30 ]\n",
    "\n",
    "categories = ['2','3','4']\n",
    "\n",
    "processed['bmi_category'] = np.select(bmi, categories, default = '1')\n",
    "\n"
   ]
  },
  {
   "cell_type": "markdown",
   "id": "cee10fab",
   "metadata": {},
   "source": [
    "After this initial phase of data cleaning, there are some \"redundancy\" in the relative abdundance data which should be removed. \n",
    "\n",
    "The relative abundance for every species is recorded multiple times in the data, as an example, let's look at the data for Archaea bacteria in sample 6 (row 5):"
   ]
  },
  {
   "cell_type": "code",
   "execution_count": 54,
   "id": "dfa76ae7",
   "metadata": {},
   "outputs": [
    {
     "data": {
      "text/plain": [
       "k__Archaea                                                                                                                                                                                      0.4308\n",
       "k__Archaea|p__Euryarchaeota                                                                                                                                                                     0.4308\n",
       "k__Archaea|p__Euryarchaeota|c__Methanobacteria                                                                                                                                                  0.4308\n",
       "k__Archaea|p__Euryarchaeota|c__Methanobacteria|o__Methanobacteriales                                                                                                                            0.4308\n",
       "k__Archaea|p__Euryarchaeota|c__Methanobacteria|o__Methanobacteriales|f__Methanobacteriaceae                                                                                                     0.4308\n",
       "k__Archaea|p__Euryarchaeota|c__Methanobacteria|o__Methanobacteriales|f__Methanobacteriaceae|g__Methanobrevibacter                                                                               0.4308\n",
       "k__Archaea|p__Euryarchaeota|c__Methanobacteria|o__Methanobacteriales|f__Methanobacteriaceae|g__Methanobrevibacter|s__Methanobrevibacter_smithii                                                 0.3816\n",
       "k__Archaea|p__Euryarchaeota|c__Methanobacteria|o__Methanobacteriales|f__Methanobacteriaceae|g__Methanobrevibacter|s__Methanobrevibacter_smithii|t__Methanobrevibacter_smithii_unclassified      0.3816\n",
       "k__Archaea|p__Euryarchaeota|c__Methanobacteria|o__Methanobacteriales|f__Methanobacteriaceae|g__Methanobrevibacter|s__Methanobrevibacter_unclassified                                           0.04919\n",
       "k__Archaea|p__Euryarchaeota|c__Methanobacteria|o__Methanobacteriales|f__Methanobacteriaceae|g__Methanosphaera                                                                                      0.0\n",
       "k__Archaea|p__Euryarchaeota|c__Methanobacteria|o__Methanobacteriales|f__Methanobacteriaceae|g__Methanosphaera|s__Methanosphaera_stadtmanae                                                         0.0\n",
       "k__Archaea|p__Euryarchaeota|c__Methanobacteria|o__Methanobacteriales|f__Methanobacteriaceae|g__Methanosphaera|s__Methanosphaera_stadtmanae|t__GCF_000012545                                        0.0\n",
       "k__Bacteria                                                                                                                                                                                   99.56889\n",
       "Name: 43, dtype: object"
      ]
     },
     "execution_count": 54,
     "metadata": {},
     "output_type": "execute_result"
    }
   ],
   "source": [
    "processed.iloc[5, 7:20]"
   ]
  },
  {
   "cell_type": "markdown",
   "id": "6af3bc23",
   "metadata": {},
   "source": [
    "The first letter preceding the name of the column is the for taxonomic rank. For example, in the output above, the first row (corresponds to col 7), \"k__Archaea\", means that for the relative abundance of all bacteria from the kingdom of [Archaea](https://en.wikipedia.org/wiki/Archaea) is 0.4308. For row 2, \"k__Archaea|p__Euryarchaeota\" is referring to the phylum of Euryarchaeota within the Archaea kingdom. (For more details, see[Bacteria Taxonomy](https://en.wikipedia.org/wiki/Bacterial_taxonomy). Since I'm interested at the species, I'll be removing columns of other taxonomic ranks. Notice that for Methanobrevibacter smithii, there is an even lower rank which starts with \"t\" which refers to type, however not every species in the dataset has a type, so we'll stick to species level.\n",
    "\n",
    "We can see that for this sample, only 2 species were detected, *M.smithii* and a unclassified methanobrevibacter, at 0.3816 and 0.04919 abundance respectively. And both values add up to 0.4308, which confirms that I'm not reading the data wrong."
   ]
  },
  {
   "cell_type": "markdown",
   "id": "b81f4569",
   "metadata": {},
   "source": [
    "I'll use regex to find column names that contain species level abundance and filter the other columns. And since I'm already filtering at the species level anyways, I'm quite curious to study genus level data as well, so I'll filter for those too. But different species of bacteria within the same genus can have different bioch and life cycles, so it is likely that there is no significant differences. emistry"
   ]
  },
  {
   "cell_type": "code",
   "execution_count": 95,
   "id": "4343ab70",
   "metadata": {},
   "outputs": [],
   "source": [
    "# get names of all columns that contain abundance data\n",
    "bacteria = list(processed.columns)[7:-1]\n",
    "\n",
    "# use regex to select exclusively for columns that contain species level abundance\n",
    "\n",
    "# filters for species level\n",
    "s = re.compile(r'(\\|s__\\w+$)')\n",
    "\n",
    "# filter for genus level\n",
    "g = re.compile(r'\\|g__\\w+$')\n",
    "\n",
    "\n",
    "not_species = [i for i in bacteria if not s.search(i)]\n",
    "not_genus = [j for j in bacteria if not g.search(j)]\n",
    "\n",
    "# drop columns that are not needed\n",
    "species_data = processed.drop(columns = not_species)\n",
    "\n",
    "genus_data = processed.drop(columns = not_genus)"
   ]
  },
  {
   "cell_type": "code",
   "execution_count": 96,
   "id": "7abe622d",
   "metadata": {},
   "outputs": [
    {
     "name": "stdout",
     "output_type": "stream",
     "text": [
      "New dimensions of the dataset:\n",
      "\n",
      "Species level dataset: 965 rows by 834 cols\n",
      "\n",
      "Genus level dataset: 965 rows by 300 cols\n"
     ]
    }
   ],
   "source": [
    "print('New dimensions of the dataset:')\n",
    "print()\n",
    "print('Species level dataset: {} rows by {} cols'.format(species_data.shape[0], species_data.shape[1]))\n",
    "print()\n",
    "print('Genus level dataset: {} rows by {} cols'.format(genus_data.shape[0], genus_data.shape[1]))\n"
   ]
  },
  {
   "cell_type": "markdown",
   "id": "dece71fc",
   "metadata": {},
   "source": [
    "The dataset looks to be more manageable now. Let's see if there are any correlation between our classes and the variables"
   ]
  },
  {
   "cell_type": "code",
   "execution_count": 131,
   "id": "6acf3112",
   "metadata": {},
   "outputs": [],
   "source": [
    "test = species_data.iloc[:, 6:].corr().fillna(0)"
   ]
  },
  {
   "cell_type": "code",
   "execution_count": 133,
   "id": "08de7790",
   "metadata": {},
   "outputs": [
    {
     "data": {
      "text/plain": [
       "<AxesSubplot:>"
      ]
     },
     "execution_count": 133,
     "metadata": {},
     "output_type": "execute_result"
    },
    {
     "data": {
      "image/png": "[encoded data removed]",
      "text/plain": [
       "<Figure size 720x576 with 2 Axes>"
      ]
     },
     "metadata": {
      "needs_background": "light"
     },
     "output_type": "display_data"
    }
   ],
   "source": [
    "plt.figure(figsize = (10,8))\n",
    "\n",
    "sns.heatmap(test, xticklabels=\"\", yticklabels=\"\")"
   ]
  },
  {
   "cell_type": "code",
   "execution_count": 9,
   "id": "fd0b9060",
   "metadata": {},
   "outputs": [
    {
     "data": {
      "text/plain": [
       "(965, 2136)"
      ]
     },
     "execution_count": 9,
     "metadata": {},
     "output_type": "execute_result"
    }
   ],
   "source": [
    "species_data.shape"
   ]
  },
  {
   "cell_type": "code",
   "execution_count": 10,
   "id": "ecde8247",
   "metadata": {},
   "outputs": [
    {
     "data": {
      "text/plain": [
       "(965, 2136)"
      ]
     },
     "execution_count": 10,
     "metadata": {},
     "output_type": "execute_result"
    }
   ],
   "source": [
    "multi_class.shape"
   ]
  },
  {
   "cell_type": "code",
   "execution_count": null,
   "id": "5524e7fc",
   "metadata": {},
   "outputs": [],
   "source": []
  },
  {
   "cell_type": "code",
   "execution_count": 6,
   "id": "a1d193db",
   "metadata": {},
   "outputs": [],
   "source": [
    "# rename feature names to shorter one\n",
    "\n",
    "s = re.compile(r's__(\\w+)')\n",
    "\n",
    "short = []\n",
    "\n",
    "for i in list(species):\n",
    "    short.append( s.search(i).group(1).replace(\"_\", \" \"))\n",
    "    \n",
    "new = dict(zip(species, short))\n",
    "\n",
    "processed.rename(columns = new, inplace=True)"
   ]
  },
  {
   "cell_type": "markdown",
   "id": "d4661115",
   "metadata": {},
   "source": [
    "Using BMI to separate into obese and normal. Also should note that the bacteria \n",
    "\n",
    "The k/p/c is actually the classification category for the bacteria, c = class, g = genus, o = order, f = family, s = species.\n",
    "\n",
    "So the bacteria species columns contains a lot of redundant data that are correlated, so have to remove them.\n",
    "\n",
    "e.g. for Archaea, there are multiple columns, k__archaea is actually the total count of all the archaea detected and then p__Euryarchaeota is the sum of all the classes/genus belonging to these classes. \n",
    "\n",
    "use RE to filter for the final level, which is species then type, then filter the columns again to cut down on the features.\n",
    "\n",
    "t__GCT.. is actually the refseq assembly accession number"
   ]
  },
  {
   "cell_type": "markdown",
   "id": "c5b029cb",
   "metadata": {},
   "source": [
    "<span style= 'color:cyan; font-size:18px'>\n",
    "\n",
    "* More descriptive analysis on the dataset\n",
    "* Anyone can call a model and run it on data, need more expert opinion and figures\n",
    "* feature selection: split BMI into 2-4 categories and pick those with highest correlation\n",
    "    * PCA and pick those with highest values (called loadings apparently, see this: https://aaqr.org/articles/aaqr-20-07-oa-0471)\n",
    "* use random search CV for hyperparameters\n",
    "* feature importance on test model\n",
    "\n",
    "\n",
    "</span>"
   ]
  },
  {
   "cell_type": "code",
   "execution_count": 29,
   "id": "8e39d0f5",
   "metadata": {},
   "outputs": [],
   "source": [
    "from sklearn.preprocessing import StandardScaler\n",
    "from sklearn.model_selection import train_test_split, RandomizedSearchCV, cross_val_score\n",
    "from sklearn import metrics\n",
    "from sklearn.metrics import balanced_accuracy_score\n",
    "from sklearn.metrics import balanced_accuracy_score\n",
    "\n",
    "# shuffle data\n",
    "#processed = processed.sample(frac=1).reset_index(drop=True)\n",
    "\n",
    "x = processed.iloc[:, 7:833]\n",
    "\n",
    "y = processed['label']\n",
    "\n",
    "# split data into train and test sets\n",
    "x_train, x_test, y_train, y_test = train_test_split(x, y, test_size = 0.2, random_state = 63)\n",
    "\n",
    "# scale data based on training set\n",
    "scaler = StandardScaler().fit(x_train)\n",
    "x_train = scaler.transform(x_train)\n",
    "x_test = scaler.transform(x_test)\n",
    "\n",
    "\n",
    "                                                   \n",
    "\n",
    "#y_test.value_counts()"
   ]
  },
  {
   "cell_type": "code",
   "execution_count": 15,
   "id": "a08e02af",
   "metadata": {},
   "outputs": [],
   "source": [
    "## Can't remember that this does but seems like it creates dictionary to record feature importance\n",
    "\n",
    "from collections import Counter\n",
    "\n",
    "c = Counter(short)\n",
    "\n",
    "test = dict(c)\n",
    "\n",
    "dict(sorted(test.items(), key=lambda item: -item[1]))\n",
    "\n",
    "import csv\n",
    "\n",
    "with open('dict.csv', 'w') as csv_file:  \n",
    "    writer = csv.writer(csv_file)\n",
    "    for key, value in test.items():\n",
    "       writer.writerow([key, value])"
   ]
  },
  {
   "cell_type": "code",
   "execution_count": 114,
   "id": "b83b99a5",
   "metadata": {},
   "outputs": [],
   "source": [
    "def model_performance(model, x, y, n=50):\n",
    "    ''' does 50 train test splits and calculates model metrics'''\n",
    "    from sklearn import metrics\n",
    "    \n",
    "    x_train, x_test, y_train, y_test = train_test_split(x, y, test_size = 0.2)\n",
    "    \n",
    "    model.fit(x_train, y_train)\n",
    "    \n",
    "    report = metrics.classification_report(y_test, model.predict(x_test), output_dict=True)\n",
    "    \n",
    "    report_std = {}\n",
    "    \n",
    "    for i in report.keys():\n",
    "        if i == 'accuracy':\n",
    "            report_std[i] = []\n",
    "        else:\n",
    "            report_std[i] = {}\n",
    "            for j in report[i].keys():\n",
    "                report_std[i][j] = []\n",
    "\n",
    "    \n",
    "    scoring = ['balanced_accuracy', 'accuracy', 'f1','precision','recall','roc_auc']\n",
    "\n",
    "    cross_val ={'balanced_accuracy':0, 'accuracy':0, 'f1':0,'precision':0,'recall':0,'roc_auc':0}\n",
    "        \n",
    "    cross_val_std ={'balanced_accuracy':[], 'accuracy':[], 'f1':[],'precision':[],'recall':[],'roc_auc':[]}\n",
    "    \n",
    "    for count in range(n):\n",
    "        \n",
    "        x_train, x_test, y_train, y_test = train_test_split(x, y, test_size = 0.2)\n",
    "        \n",
    "        model.fit(x_train, y_train)\n",
    "        \n",
    "        test = metrics.classification_report(y_test, model.predict(x_test), output_dict=True)\n",
    "        \n",
    "        for i in report.keys():\n",
    "            if i == 'accuracy':\n",
    "                report[i] += test[i]\n",
    "                report_std[i].append(test[i])\n",
    "            else:\n",
    "                for j in report[i].keys():\n",
    "                    report[i][j] += test[i][j]\n",
    "                    report_std[i][j].append(test[i][j])\n",
    "       \n",
    "        for p in scoring:\n",
    "            scores = cross_val_score(model, x_train, y_train, scoring = p)\n",
    "\n",
    "            cross_val[p] += np.mean(scores)\n",
    "            \n",
    "            cross_val_std[p].append((np.mean(scores)))\n",
    "            \n",
    "    \n",
    "    for i in scoring:\n",
    "        print(i)\n",
    "        print('mean: %0.3f' % (cross_val[i]/n))\n",
    "        print('std dev: %0.3f' % (np.std(cross_val_std[i])))\n",
    "        print()\n",
    "        \n",
    "    for i in report.keys():\n",
    "        if i == 'accuracy':\n",
    "            report[i] = report[i]/(n+1)\n",
    "            report_std[i] = np.std(report_std[i])\n",
    "        else:\n",
    "            for j in report[i].keys():\n",
    "                report[i][j] = report[i][j]/(n+1)\n",
    "                report_std[i][j] = np.std(report_std[i][j])\n",
    "        \n",
    "    return report, report_std\n",
    "\n",
    "\n",
    "# def model_performance(model, x, y):\n",
    "#     ''' 20 fold cross val score'''\n",
    "#     scoring = ['balanced_accuracy', 'accuracy', 'f1','precision','recall','roc_auc']\n",
    "    \n",
    "#     for p in scoring:\n",
    "#         scores = cross_val_score(model, x, y, cv=20, scoring = p)\n",
    "#         print(p)\n",
    "#         print('mean: %0.3f' % np.mean(scores))\n",
    "#         print('std dev: %0.2f' % np.std(scores))\n",
    "#         print()"
   ]
  },
  {
   "cell_type": "code",
   "execution_count": null,
   "id": "dcaf4ccc",
   "metadata": {},
   "outputs": [],
   "source": [
    "# correlation plot of features\n",
    "\n",
    "corr = processed.iloc[:, 7:833].corr()\n",
    "corr.fillna(0, inplace=True)\n",
    "\n",
    "fig, ax = plt.subplots(1,1, figsize=(12,8))\n",
    "\n",
    "sns.heatmap(corr, xticklabels = False, yticklabels = False, ax=ax, cmap='viridis')\n",
    "\n",
    "# plt.tight_layout()\n",
    "\n",
    "# plt.savefig('correlation_heatmap.png', dpi=200)"
   ]
  },
  {
   "cell_type": "code",
   "execution_count": null,
   "id": "8e399ccc",
   "metadata": {},
   "outputs": [],
   "source": [
    "def model_performance(y_true, y_pred):\n",
    "    '''prints model metrics'''\n",
    "\n",
    "    from sklearn.metrics import confusion_matrix, ConfusionMatrixDisplay, classification_report\n",
    "\n",
    "    ConfusionMatrixDisplay(confusion_matrix(y_true, y_pred)).plot()\n",
    "\n",
    "    print(classification_report(y_true, log_pred))\n",
    "    print('balanced accuracy: {0:.4g}'.format(metrics.balanced_accuracy_score(y_true, log_pred)))\n",
    "\n"
   ]
  },
  {
   "cell_type": "markdown",
   "id": "be369e90",
   "metadata": {},
   "source": [
    "### Log regression ###"
   ]
  },
  {
   "cell_type": "code",
   "execution_count": 30,
   "id": "5f886e05",
   "metadata": {},
   "outputs": [
    {
     "data": {
      "text/plain": [
       "{'C': 0.15220401184507015, 'penalty': 'l2'}"
      ]
     },
     "execution_count": 30,
     "metadata": {},
     "output_type": "execute_result"
    }
   ],
   "source": [
    "from sklearn.linear_model import LogisticRegression\n",
    "from scipy.stats import uniform, norm\n",
    "\n",
    "#log_params = {'penalty':['l1', 'l2']}\n",
    "\n",
    "# essentially, the hyperparameter c for regularisation strength will be randomly sampled from a uniform dist between 0 - 5\n",
    "log_params = dict(C=uniform(loc=0, scale=5), penalty=['l2', 'l1'])\n",
    "\n",
    "# fit log regression\n",
    "log_reg = LogisticRegression(max_iter=1000)\n",
    "\n",
    "# randomized hyperparameter search\n",
    "log_reg_CV = RandomizedSearchCV(log_reg, log_params, n_iter = 50,  scoring = 'balanced_accuracy').fit(x_train, y_train)\n",
    "\n",
    "log_reg_CV.best_params_"
   ]
  },
  {
   "cell_type": "code",
   "execution_count": 33,
   "id": "91ee210d",
   "metadata": {},
   "outputs": [],
   "source": [
    "from sklearn.linear_model import LogisticRegression\n",
    "\n",
    "# refit model with all training data\n",
    "log_reg_CV.fit(x_train, y_train)\n",
    "\n",
    "log_pred = log_reg_CV.predict(x_test)\n",
    " "
   ]
  },
  {
   "cell_type": "code",
   "execution_count": 36,
   "id": "575a2e2d",
   "metadata": {},
   "outputs": [
    {
     "data": {
      "text/plain": [
       "<sklearn.metrics._plot.confusion_matrix.ConfusionMatrixDisplay at 0x13d2056cf40>"
      ]
     },
     "execution_count": 36,
     "metadata": {},
     "output_type": "execute_result"
    },
    {
     "data": {
      "image/png": "[encoded data removed]",
      "text/plain": [
       "<Figure size 432x288 with 2 Axes>"
      ]
     },
     "metadata": {
      "needs_background": "light"
     },
     "output_type": "display_data"
    }
   ],
   "source": [
    "from sklearn.metrics import confusion_matrix, ConfusionMatrixDisplay\n",
    "\n",
    "log_cm = confusion_matrix(y_test, log_pred)\n",
    "\n",
    "ConfusionMatrixDisplay(log_cm).plot()"
   ]
  },
  {
   "cell_type": "code",
   "execution_count": 48,
   "id": "bdacf6f4",
   "metadata": {},
   "outputs": [
    {
     "name": "stdout",
     "output_type": "stream",
     "text": [
      "              precision    recall  f1-score   support\n",
      "\n",
      "           0       0.73      0.86      0.79        84\n",
      "           1       0.80      0.64      0.72        76\n",
      "\n",
      "    accuracy                           0.76       160\n",
      "   macro avg       0.77      0.75      0.75       160\n",
      "weighted avg       0.76      0.76      0.75       160\n",
      "\n",
      "balanced accuracy: 0.7509\n"
     ]
    }
   ],
   "source": [
    "from sklearn.metrics import classification_report\n",
    "\n",
    "print(classification_report(y_test, log_pred))\n",
    "print('balanced accuracy: {0:.4g}'.format(metrics.balanced_accuracy_score(y_test, log_pred)))"
   ]
  },
  {
   "cell_type": "markdown",
   "id": "928e0834",
   "metadata": {},
   "source": [
    "### Linear SVM ###"
   ]
  },
  {
   "cell_type": "code",
   "execution_count": 54,
   "id": "e9b3cf9a",
   "metadata": {},
   "outputs": [
    {
     "data": {
      "text/plain": [
       "{'C': 0.29560100832948466, 'penalty': 'l2'}"
      ]
     },
     "execution_count": 54,
     "metadata": {},
     "output_type": "execute_result"
    }
   ],
   "source": [
    "#linear SVM\n",
    "\n",
    "from sklearn.svm import LinearSVC\n",
    "\n",
    "linsvm_params = {'penalty':['l1','l2'], 'C':uniform(0, 10)}\n",
    "\n",
    "lin_svm = LinearSVC(max_iter = 500)\n",
    "\n",
    "linsvm_cv = RandomizedSearchCV(lin_svm, linsvm_params, n_iter = 50, cv=10, scoring = 'balanced_accuracy').fit(x_train, y_train)\n",
    "\n",
    "linsvm_cv.best_params_"
   ]
  },
  {
   "cell_type": "code",
   "execution_count": 57,
   "id": "356848e0",
   "metadata": {},
   "outputs": [],
   "source": [
    "linsvm_cv.fit(x_train, y_train)\n",
    "\n",
    "lin_svm_pred = linsvm_cv.predict(x_test)"
   ]
  },
  {
   "cell_type": "code",
   "execution_count": 59,
   "id": "b71e027e",
   "metadata": {},
   "outputs": [
    {
     "name": "stdout",
     "output_type": "stream",
     "text": [
      "              precision    recall  f1-score   support\n",
      "\n",
      "           0       0.73      0.86      0.79        84\n",
      "           1       0.80      0.64      0.72        76\n",
      "\n",
      "    accuracy                           0.76       160\n",
      "   macro avg       0.77      0.75      0.75       160\n",
      "weighted avg       0.76      0.76      0.75       160\n",
      "\n",
      "balanced accuracy: 0.7509\n"
     ]
    },
    {
     "data": {
      "image/png": "[encoded data removed]",
      "text/plain": [
       "<Figure size 432x288 with 2 Axes>"
      ]
     },
     "metadata": {
      "needs_background": "light"
     },
     "output_type": "display_data"
    }
   ],
   "source": [
    "model_performance(y_test, lin_svm_pred)"
   ]
  },
  {
   "cell_type": "markdown",
   "id": "ed4f3c3d",
   "metadata": {},
   "source": [
    "### Kernel SVM ###"
   ]
  },
  {
   "cell_type": "code",
   "execution_count": null,
   "id": "1c690cc8",
   "metadata": {},
   "outputs": [],
   "source": [
    "#step by step optimization\n",
    "\n",
    "from sklearn.svm import SVC\n",
    "\n",
    "svm_params = {'kernel':['rbf','sigmoid','poly'], 'gamma':list(np.logspace(-5,5, num=13)), 'C':list(np.logspace(-3,8, num=13))}\n",
    "\n",
    "svm = SVC(max_iter = 5000)\n",
    "\n",
    "svm_cv = GridSearchCV(svm, svm_params, scoring = 'balanced_accuracy', n_jobs = 2).fit(x_train, y_train)\n",
    "\n",
    "svm_cv.best_params_"
   ]
  },
  {
   "cell_type": "code",
   "execution_count": 122,
   "id": "78a780ea",
   "metadata": {},
   "outputs": [],
   "source": [
    "from sklearn.svm import SVC\n",
    "\n",
    "svm = SVC(kernel = 'rbf', C = 38.3, gamma = 0.0032)\n",
    "\n",
    "# model_performance(svm, x_train, y_train)"
   ]
  },
  {
   "cell_type": "code",
   "execution_count": null,
   "id": "439555db",
   "metadata": {},
   "outputs": [],
   "source": [
    "report, report_std = model_performance(svm, x, y, n=20)"
   ]
  },
  {
   "cell_type": "code",
   "execution_count": null,
   "id": "098b5960",
   "metadata": {},
   "outputs": [],
   "source": [
    "report"
   ]
  },
  {
   "cell_type": "code",
   "execution_count": null,
   "id": "83f79ad2",
   "metadata": {},
   "outputs": [],
   "source": [
    "report_std"
   ]
  },
  {
   "cell_type": "code",
   "execution_count": 66,
   "id": "2276cea7",
   "metadata": {},
   "outputs": [
    {
     "data": {
      "text/plain": [
       "SVC(C=38.3, gamma=0.0032)"
      ]
     },
     "execution_count": 66,
     "metadata": {},
     "output_type": "execute_result"
    }
   ],
   "source": [
    "svm.fit(x_train, y_train)\n",
    "\n",
    "# print(metrics.classification_report(y_test, svm.predict(x_test)))\n"
   ]
  },
  {
   "cell_type": "markdown",
   "id": "77785524",
   "metadata": {},
   "source": [
    "### Decision Tree ###"
   ]
  },
  {
   "cell_type": "markdown",
   "id": "49e43317",
   "metadata": {},
   "source": [
    "from sklearn.tree import DecisionTreeClassifier\n",
    "\n",
    "tree_params = {'criterion':['gini','entropy'], 'max_depth':[p for p in range(50)[5:]], 'min_samples_leaf':list(np.linspace(0.0001,0.25,num=50)), \n",
    "               'max_features':['sqrt','log2','None']}\n",
    "\n",
    "tree = DecisionTreeClassifier()\n",
    "\n",
    "tree_cv = GridSearchCV(tree, tree_params, scoring = 'balanced_accuracy').fit(x_train, y_train)\n",
    "\n",
    "tree_cv.best_params_"
   ]
  },
  {
   "cell_type": "code",
   "execution_count": 126,
   "id": "3d19fb2f",
   "metadata": {},
   "outputs": [],
   "source": [
    "from sklearn.tree import DecisionTreeClassifier\n",
    "\n",
    "tree = DecisionTreeClassifier(criterion = 'entropy', max_depth = 39, max_features = 'sqrt', min_samples_leaf = 0.0001)\n",
    "\n",
    "# model_performance(tree, x_train, y_train)"
   ]
  },
  {
   "cell_type": "code",
   "execution_count": null,
   "id": "b5f9599c",
   "metadata": {},
   "outputs": [],
   "source": [
    "report, report_std = model_performance(tree, x, y, n=20)"
   ]
  },
  {
   "cell_type": "code",
   "execution_count": null,
   "id": "73862913",
   "metadata": {},
   "outputs": [],
   "source": [
    "report"
   ]
  },
  {
   "cell_type": "code",
   "execution_count": null,
   "id": "99ea29ec",
   "metadata": {},
   "outputs": [],
   "source": [
    "report_std"
   ]
  },
  {
   "cell_type": "code",
   "execution_count": 68,
   "id": "470112ad",
   "metadata": {},
   "outputs": [
    {
     "data": {
      "text/plain": [
       "DecisionTreeClassifier(criterion='entropy', max_depth=39, max_features='sqrt',\n",
       "                       min_samples_leaf=0.0001)"
      ]
     },
     "execution_count": 68,
     "metadata": {},
     "output_type": "execute_result"
    }
   ],
   "source": [
    "tree.fit(x_train, y_train)\n",
    "\n",
    "# print(metrics.classification_report(y_test, tree.predict(x_test)))\n"
   ]
  },
  {
   "cell_type": "markdown",
   "id": "4a8c3ea9",
   "metadata": {},
   "source": [
    "### Random Forest ###"
   ]
  },
  {
   "cell_type": "markdown",
   "id": "95651ae7",
   "metadata": {},
   "source": [
    "from sklearn.ensemble import RandomForestClassifier\n",
    "\n",
    "forest = RandomForestClassifier()\n",
    "\n",
    "forest_params = {'n_estimators':[i for i in range(110)[10::20]], 'max_depth':[j for j in range(81)[5::15]], \n",
    "                 'min_samples_leaf':list(np.linspace(0.001,0.25,num=50)), 'max_features':['sqrt','log2']}\n",
    "\n",
    "forest_cv = GridSearchCV(forest, forest_params, scoring = 'balanced_accuracy', n_jobs=2).fit(x_train, y_train)\n",
    "\n",
    "forest_cv.best_params_"
   ]
  },
  {
   "cell_type": "markdown",
   "id": "7396c613",
   "metadata": {},
   "source": [
    "forest = RandomForestClassifier(max_features = 'sqrt')\n",
    "\n",
    "forest_params = {'n_estimators':[i for i in range(80)[65:75]], 'max_depth':[j for j in range(80)[60:75:2]], \n",
    "                 'min_samples_leaf':list(np.linspace(0.0001,0.1,num=10))}\n",
    "\n",
    "forest_cv = GridSearchCV(forest, forest_params, scoring = 'balanced_accuracy').fit(x_train, y_train)\n",
    "\n",
    "forest_cv.best_params_"
   ]
  },
  {
   "cell_type": "code",
   "execution_count": 131,
   "id": "ff7d47c4",
   "metadata": {},
   "outputs": [],
   "source": [
    "from sklearn.ensemble import RandomForestClassifier\n",
    "\n",
    "forest = RandomForestClassifier(n_estimators = 65, min_samples_leaf=0.0001, max_features='sqrt', max_depth = 62)\n",
    "\n",
    "# model_performance(forest, x_train, y_train)"
   ]
  },
  {
   "cell_type": "code",
   "execution_count": null,
   "id": "51d0bf51",
   "metadata": {},
   "outputs": [],
   "source": [
    "report, report_std = model_performance(forest, x, y, n=20)"
   ]
  },
  {
   "cell_type": "code",
   "execution_count": null,
   "id": "0bdc7d48",
   "metadata": {},
   "outputs": [],
   "source": [
    "report"
   ]
  },
  {
   "cell_type": "code",
   "execution_count": null,
   "id": "0c955c97",
   "metadata": {},
   "outputs": [],
   "source": [
    "report_std"
   ]
  },
  {
   "cell_type": "code",
   "execution_count": 70,
   "id": "7b8138a2",
   "metadata": {},
   "outputs": [
    {
     "data": {
      "text/plain": [
       "RandomForestClassifier(max_depth=62, max_features='sqrt',\n",
       "                       min_samples_leaf=0.0001, n_estimators=65)"
      ]
     },
     "execution_count": 70,
     "metadata": {},
     "output_type": "execute_result"
    }
   ],
   "source": [
    "forest.fit(x_train, y_train)\n",
    "\n",
    "# print(metrics.classification_report(y_test, forest.predict(x_test)))\n"
   ]
  },
  {
   "cell_type": "markdown",
   "id": "dd9b8ea3",
   "metadata": {},
   "source": [
    "### Naive Bayes ###"
   ]
  },
  {
   "cell_type": "code",
   "execution_count": 17,
   "id": "381567fc",
   "metadata": {},
   "outputs": [],
   "source": [
    "from sklearn.naive_bayes import GaussianNB\n",
    "\n",
    "naive = GaussianNB()\n",
    "\n",
    "# model_performance(naive, x_train, y_train)"
   ]
  },
  {
   "cell_type": "code",
   "execution_count": 18,
   "id": "69213386",
   "metadata": {},
   "outputs": [
    {
     "data": {
      "text/plain": [
       "GaussianNB()"
      ]
     },
     "execution_count": 18,
     "metadata": {},
     "output_type": "execute_result"
    }
   ],
   "source": [
    "naive.fit(x_train, y_train)\n",
    "\n",
    "print(metrics.classification_report(y_test, naive.predict(x_test)))\n"
   ]
  },
  {
   "cell_type": "markdown",
   "id": "d534630a",
   "metadata": {},
   "source": [
    "### Adaboost ###"
   ]
  },
  {
   "cell_type": "markdown",
   "id": "edbe0a75",
   "metadata": {},
   "source": [
    "from sklearn.ensemble import AdaBoostClassifier\n",
    "\n",
    "ada = AdaBoostClassifier()\n",
    "\n",
    "ada_params = {'n_estimators':[i for i in range(150)[100:130]]}\n",
    "\n",
    "ada_cv = GridSearchCV(ada, ada_params, scoring = 'balanced_accuracy', n_jobs=2).fit(x_train, y_train)\n",
    "\n",
    "ada_cv.best_params_"
   ]
  },
  {
   "cell_type": "code",
   "execution_count": 135,
   "id": "4255730e",
   "metadata": {},
   "outputs": [],
   "source": [
    "from sklearn.ensemble import AdaBoostClassifier\n",
    "\n",
    "ada = AdaBoostClassifier(n_estimators = 117)\n",
    "\n",
    "# model_performance(ada, x_train, y_train)"
   ]
  },
  {
   "cell_type": "code",
   "execution_count": null,
   "id": "83b5da8a",
   "metadata": {},
   "outputs": [],
   "source": [
    "report, report_std = model_performance(ada, x, y, n=20)"
   ]
  },
  {
   "cell_type": "code",
   "execution_count": null,
   "id": "0d72e086",
   "metadata": {},
   "outputs": [],
   "source": [
    "report"
   ]
  },
  {
   "cell_type": "code",
   "execution_count": null,
   "id": "04007d19",
   "metadata": {},
   "outputs": [],
   "source": [
    "report_std"
   ]
  },
  {
   "cell_type": "code",
   "execution_count": 72,
   "id": "8ea3be36",
   "metadata": {},
   "outputs": [
    {
     "data": {
      "text/plain": [
       "AdaBoostClassifier(n_estimators=117)"
      ]
     },
     "execution_count": 72,
     "metadata": {},
     "output_type": "execute_result"
    }
   ],
   "source": [
    "ada.fit(x_train, y_train)\n",
    "\n",
    "# print(metrics.classification_report(y_test, ada.predict(x_test)))\n"
   ]
  },
  {
   "cell_type": "markdown",
   "id": "90def902",
   "metadata": {},
   "source": [
    "### Gradient Boost ###"
   ]
  },
  {
   "cell_type": "markdown",
   "id": "b61c12f6",
   "metadata": {},
   "source": [
    "from sklearn.ensemble import GradientBoostingClassifier\n",
    "\n",
    "grad = GradientBoostingClassifier()\n",
    "\n",
    "grad_params = {'n_estimators':[i for i in range(200)[100:300:20]]}\n",
    "\n",
    "grad_cv = GridSearchCV(grad, grad_params).fit(x_train, y_train)"
   ]
  },
  {
   "cell_type": "markdown",
   "id": "4c2f7d64",
   "metadata": {},
   "source": [
    "grad = GradientBoostingClassifier()\n",
    "\n",
    "grad_params = {'n_estimators':[i for i in range(200)[125:150:5]], 'max_depth':[i for i in range(16)[3::2]]}\n",
    "\n",
    "grad_cv = GridSearchCV(grad, grad_params).fit(x_train, y_train)"
   ]
  },
  {
   "cell_type": "markdown",
   "id": "d7512a0c",
   "metadata": {},
   "source": [
    "grad = GradientBoostingClassifier(n_estimators = 145, max_depth = 5)\n",
    "\n",
    "grad_params = {'max_features':['sqrt','log2','auto','None']}\n",
    "\n",
    "grad_cv = GridSearchCV(grad, grad_params).fit(x_train, y_train)"
   ]
  },
  {
   "cell_type": "code",
   "execution_count": 148,
   "id": "061af34f",
   "metadata": {},
   "outputs": [],
   "source": [
    "from sklearn.ensemble import GradientBoostingClassifier\n",
    "\n",
    "grad = GradientBoostingClassifier(n_estimators = 145, max_depth = 5)\n",
    "\n",
    "# model_performance(grad, x_train, y_train)"
   ]
  },
  {
   "cell_type": "code",
   "execution_count": null,
   "id": "9a3e06a2",
   "metadata": {},
   "outputs": [],
   "source": [
    "grad = GradientBoostingClassifier()\n",
    "\n",
    "report, report_std = model_performance(grad, x, y, n=20)"
   ]
  },
  {
   "cell_type": "code",
   "execution_count": null,
   "id": "fb9ee39a",
   "metadata": {},
   "outputs": [],
   "source": [
    "report"
   ]
  },
  {
   "cell_type": "code",
   "execution_count": null,
   "id": "4032aa55",
   "metadata": {},
   "outputs": [],
   "source": [
    "report_std"
   ]
  },
  {
   "cell_type": "code",
   "execution_count": 74,
   "id": "5941c620",
   "metadata": {},
   "outputs": [
    {
     "data": {
      "text/plain": [
       "GradientBoostingClassifier(max_depth=5, n_estimators=145)"
      ]
     },
     "execution_count": 74,
     "metadata": {},
     "output_type": "execute_result"
    }
   ],
   "source": [
    "grad.fit(x_train, y_train)\n",
    "\n",
    "# print(metrics.classification_report(y_test, grad.predict(x_test)))\n"
   ]
  },
  {
   "cell_type": "code",
   "execution_count": null,
   "id": "22edc806",
   "metadata": {},
   "outputs": [],
   "source": [
    "\n",
    "fig, ax = plt.subplots(1,2, figsize = (22,12))\n",
    "\n",
    "#plot ROC curve\n",
    "\n",
    "metrics.plot_roc_curve(log_reg, x_test, y_test, ax = ax[0], name = \"Log Reggression\")\n",
    "metrics.plot_roc_curve(lin_svm, x_test, y_test, ax = ax[0], name = \"Linear SVM\")\n",
    "metrics.plot_roc_curve(svm, x_test, y_test, ax = ax[0], name = \"kernel SVM\")\n",
    "# metrics.plot_roc_curve(naive, x_test, y_test, ax = ax[0], name = \"Naive Bayes\")\n",
    "metrics.plot_roc_curve(tree, x_test, y_test, ax = ax[0], name = \"Decision Tree\")\n",
    "metrics.plot_roc_curve(forest, x_test, y_test, ax = ax[0], name = \"Random Forest\", ls = \"-.\", color='r', linewidth = 2)\n",
    "metrics.plot_roc_curve(ada, x_test, y_test, ax = ax[0], name = \"Adaboost\")\n",
    "metrics.plot_roc_curve(grad, x_test, y_test, ax = ax[0], name = \"Gradient Boosting\", ls = '--', color='black', linewidth=2)\n",
    "ax[0].tick_params(axis='both', labelsize= 14)\n",
    "ax[0].set_xlabel('False Postive Rate', fontsize = 24)\n",
    "ax[0].set_ylabel('True Postive Rate', fontsize = 24)\n",
    "ax[0].text(-0.08, 1.065, \"A\", fontsize=24, fontweight='bold', va='top', ha='right')\n",
    "ax[0].legend(fontsize = 14)\n",
    "\n",
    "#plot precision-recall curve\n",
    "\n",
    "metrics.plot_precision_recall_curve(log_reg, x_test, y_test, ax = ax[1], name = \"Log Reggression\")\n",
    "metrics.plot_precision_recall_curve(lin_svm, x_test, y_test, ax = ax[1], name = \"Linear SVM\")\n",
    "metrics.plot_precision_recall_curve(svm, x_test, y_test, ax = ax[1], name = \"kernel SVM\")\n",
    "# metrics.plot_precision_recall_curve(naive, x_test, y_test, ax = ax[1], name = \"Naive Bayes\")\n",
    "metrics.plot_precision_recall_curve(tree, x_test, y_test, ax = ax[1], name = \"Decision Tree\")\n",
    "metrics.plot_precision_recall_curve(forest, x_test, y_test, ax = ax[1], name = \"Random Forest\", ls = \"-.\", color='r', linewidth = 2)\n",
    "metrics.plot_precision_recall_curve(ada, x_test, y_test, ax = ax[1], name = \"Adaboost\")\n",
    "metrics.plot_precision_recall_curve(grad, x_test, y_test, ax = ax[1], name = \"Gradient Boosting\", ls = '--', color='black', linewidth=2)\n",
    "ax[1].set_xlabel('Recall', fontsize = 24)\n",
    "ax[1].set_ylabel('Precision', fontsize = 24)\n",
    "ax[1].legend(loc = 'lower left',fontsize=14)\n",
    "ax[1].tick_params(axis='both', labelsize= 16)\n",
    "ax[1].text(-0.08, 1.035, \"B\", fontsize=24, fontweight='bold', va='top', ha='right')\n",
    "\n",
    "\n",
    "plt.tight_layout()\n",
    "plt.savefig('performance',dpi=300)\n",
    "\n",
    "\n",
    "#always put savefig before show(), if not will save empty image.\n",
    "plt.show()"
   ]
  },
  {
   "cell_type": "markdown",
   "id": "3021b730",
   "metadata": {},
   "source": [
    "### Dataframe of permutation importance of better performing models ###\n",
    "\n",
    "### Also the plots ###"
   ]
  },
  {
   "cell_type": "code",
   "execution_count": 13,
   "id": "97f49399",
   "metadata": {},
   "outputs": [],
   "source": [
    "from sklearn.inspection import permutation_importance\n",
    "\n",
    "# forest_importance = permutation_importance(forest, x_test, y_test, scoring = 'balanced_accuracy', n_jobs = 2, random_state = 42)\n",
    "\n",
    "# ada_importance = permutation_importance(ada, x_test, y_test, scoring = 'balanced_accuracy', n_jobs = 2, random_state = 42)\n",
    "\n",
    "grad_importance = permutation_importance(grad, x_test, y_test, scoring = 'balanced_accuracy', n_jobs = 2, n_repeats = 100, random_state = 42)\n",
    "\n",
    "# svm_importance = permutation_importance(svm, x_test, y_test, scoring = 'balanced_accuracy', n_jobs = 2, random_state = 42)\n"
   ]
  },
  {
   "cell_type": "code",
   "execution_count": 47,
   "id": "1e3e93da",
   "metadata": {},
   "outputs": [],
   "source": [
    "# features = list(processed.columns[7:-1])"
   ]
  },
  {
   "cell_type": "code",
   "execution_count": 59,
   "id": "5091f056",
   "metadata": {},
   "outputs": [],
   "source": [
    "# perm_impt = pd.DataFrame(columns = ['Features', 'Forest','Grad', 'Ada', 'SVM'])\n",
    "\n",
    "# perm_impt['Features'] = features\n",
    "\n",
    "# perm_impt['Forest'] = forest_importance['importances_mean']\n",
    "\n",
    "# perm_impt['Ada'] = ada_importance['importances_mean']\n",
    "\n",
    "# perm_impt['Grad'] = grad_importance['importances_mean']\n",
    "\n",
    "# perm_impt['SVM'] = svm_importance['importances_mean']\n",
    "\n",
    "#perm_impt.to_csv('permutation_importance.csv', index=False)"
   ]
  },
  {
   "cell_type": "code",
   "execution_count": 60,
   "id": "7f8a73ed",
   "metadata": {},
   "outputs": [],
   "source": [
    "# perm_impt = pd.read_csv('feature_importance.csv')\n",
    "\n",
    "# forest_impt = list(perm_impt['Features'][perm_impt['Forest'] > 0])\n",
    "\n",
    "# ada_impt = list(perm_impt['Features'][perm_impt['Ada'] > 0])\n",
    "\n",
    "# grad_impt = list(perm_impt['Features'][perm_impt['Grad'] > 0])\n"
   ]
  },
  {
   "cell_type": "code",
   "execution_count": 31,
   "id": "e40e31dd",
   "metadata": {},
   "outputs": [],
   "source": [
    "# feature_count = []\n",
    "\n",
    "# for model in ['Forest','Grad', 'Ada']:\n",
    "#     feature_count.append((perm_impt[model] > 0).value_counts()[True])\n"
   ]
  },
  {
   "cell_type": "code",
   "execution_count": 63,
   "id": "82f9a770",
   "metadata": {},
   "outputs": [],
   "source": [
    "# from matplotlib_venn import venn2\n",
    "\n",
    "# forest_impt = list(perm_impt['Features'][perm_impt['Forest'] > 0])\n",
    "# grad_impt = list(perm_impt['Features'][perm_impt['Grad'] > 0])\n",
    "# ada_impt = list(perm_impt['Features'][perm_impt['Ada'] > 0])\n",
    "# svm_impt = list(perm_impt['Features'][perm_impt['SVM'] > 0])\n"
   ]
  },
  {
   "cell_type": "code",
   "execution_count": null,
   "id": "b0a66284",
   "metadata": {},
   "outputs": [],
   "source": [
    "# x_labels = ['Random Forest','Gradient Boost', 'AdaBoost']\n",
    "\n",
    "# # Plot the figure.\n",
    "# fig, ax = plt.subplots(1,1, figsize = (14,10), facecolor = 'white')\n",
    "\n",
    "# ax = pd.Series(feature_count).plot(kind='bar')\n",
    "# ax.set_title('No. of Important Features', fontsize = 18, fontweight = 'bold', pad = 10)\n",
    "# ax.set_xlabel('Classifier', fontsize = 16, fontweight = 'bold', labelpad = 10)\n",
    "# ax.set_ylabel('Count',  fontsize = 16, fontweight = 'bold', labelpad = 10)\n",
    "# ax.set_xticklabels(x_labels, rotation = 0, fontsize = 14)\n",
    "\n",
    "# rects = ax.patches\n",
    "\n",
    "# # Make some labels.\n",
    "\n",
    "# for rect, label in zip(rects, feature_count):\n",
    "#     height = rect.get_height()\n",
    "#     ax.text(rect.get_x() + rect.get_width() / 2, height + 1, label,\n",
    "#             ha='center', va='bottom', fontsize = 14)\n",
    "\n",
    "# plt.savefig('impt_feature_count.png', dpi=150)\n",
    "    \n",
    "# plt.show()\n"
   ]
  },
  {
   "cell_type": "code",
   "execution_count": 163,
   "id": "d79a3a73",
   "metadata": {},
   "outputs": [],
   "source": [
    "diabetes_impt = pd.read_csv('dict_diabetes.csv', names=['features', 'count'])\n",
    "\n",
    "grad_impt = pd.read_csv('dict_obs.csv', names=['features', 'count'])\n",
    "\n",
    "cirr_impt = pd.read_csv('dict_cirrhosis.csv', names=['features', 'count'])"
   ]
  },
  {
   "cell_type": "code",
   "execution_count": null,
   "id": "2afc329c",
   "metadata": {},
   "outputs": [],
   "source": [
    "from venn import venn\n",
    "\n",
    "test = {'Obesity':set(grad_impt['features']), 'Diabetes':set(diabetes_impt['features'])} #, 'Cirrhosis':set(cirr_impt['features'])}\n",
    "\n",
    "fig, ax = plt.subplots(1,1, figsize = (14,10), facecolor='white')\n",
    "\n",
    "venn(test, fontsize = 18, legend_loc = 'lower left', ax=ax)\n",
    "\n",
    "#ax.set_title('Feature Overlap between Classifiers', fontsize = 18, fontweight ='bold', y=0.90)\n",
    "\n",
    "plt.tight_layout()\n",
    "\n",
    "plt.savefig('venn_diagram.png', dpi=200)\n",
    "\n"
   ]
  },
  {
   "cell_type": "code",
   "execution_count": 54,
   "id": "b4bb54c3",
   "metadata": {
    "tags": []
   },
   "outputs": [],
   "source": [
    "del test"
   ]
  },
  {
   "cell_type": "markdown",
   "id": "9fa68ede",
   "metadata": {},
   "source": [
    "### Gradient Boost analysis ###"
   ]
  },
  {
   "cell_type": "code",
   "execution_count": 6,
   "id": "d6e136ae",
   "metadata": {},
   "outputs": [],
   "source": [
    "\n",
    "#grad_perm.to_csv('grad_perm_impt.csv', index=False)\n",
    "\n",
    "grad_perm = pd.read_csv('obs_avg_impt.csv')"
   ]
  },
  {
   "cell_type": "code",
   "execution_count": null,
   "id": "24e8bf51",
   "metadata": {},
   "outputs": [],
   "source": [
    "from sklearn.inspection import permutation_importance\n",
    "\n",
    "from sklearn.ensemble import GradientBoostingClassifier\n",
    "\n",
    "impt_score = np.zeros((826,))\n",
    "\n",
    "for i in range(50):\n",
    "    # split data\n",
    "    x_train, x_test, y_train, y_test = train_test_split(x, y, test_size = 0.2)\n",
    "\n",
    "    grad = GradientBoostingClassifier(n_estimators = 145, max_depth = 5).fit(x_train, y_train)\n",
    "    \n",
    "    perm_impt = permutation_importance(grad, x_test, y_test, scoring='balanced_accuracy', n_jobs = 2)\n",
    "    \n",
    "    # filter dataset\n",
    "    \n",
    "    impt_score += perm_impt['importances_mean']\n",
    "    \n",
    "temp1 = pd.DataFrame(columns = ['features','impt'])\n",
    "    \n",
    "temp1['features'] = short\n",
    "temp1['impt'] = impt_score/50\n",
    "    \n",
    "temp2 = temp1[temp1['impt'] > 0].copy()\n",
    "temp2.sort_values(by='impt', ascending=False, inplace=True, ignore_index=True)"
   ]
  },
  {
   "cell_type": "code",
   "execution_count": 113,
   "id": "136b79ba",
   "metadata": {},
   "outputs": [
    {
     "data": {
      "text/html": [
       "<div>\n",
       "<style scoped>\n",
       "    .dataframe tbody tr th:only-of-type {\n",
       "        vertical-align: middle;\n",
       "    }\n",
       "\n",
       "    .dataframe tbody tr th {\n",
       "        vertical-align: top;\n",
       "    }\n",
       "\n",
       "    .dataframe thead th {\n",
       "        text-align: right;\n",
       "    }\n",
       "</style>\n",
       "<table border=\"1\" class=\"dataframe\">\n",
       "  <thead>\n",
       "    <tr style=\"text-align: right;\">\n",
       "      <th></th>\n",
       "      <th>features</th>\n",
       "      <th>impt</th>\n",
       "    </tr>\n",
       "  </thead>\n",
       "  <tbody>\n",
       "    <tr>\n",
       "      <th>0</th>\n",
       "      <td>Klebsiella pneumoniae</td>\n",
       "      <td>0.022613</td>\n",
       "    </tr>\n",
       "    <tr>\n",
       "      <th>1</th>\n",
       "      <td>Bacteroides intestinalis</td>\n",
       "      <td>0.010920</td>\n",
       "    </tr>\n",
       "    <tr>\n",
       "      <th>2</th>\n",
       "      <td>Bacteroides stercoris</td>\n",
       "      <td>0.005639</td>\n",
       "    </tr>\n",
       "    <tr>\n",
       "      <th>3</th>\n",
       "      <td>Bacteroides pectinophilus</td>\n",
       "      <td>0.003882</td>\n",
       "    </tr>\n",
       "    <tr>\n",
       "      <th>4</th>\n",
       "      <td>Streptococcus thermophilus</td>\n",
       "      <td>0.003866</td>\n",
       "    </tr>\n",
       "    <tr>\n",
       "      <th>5</th>\n",
       "      <td>Ruminococcus obeum</td>\n",
       "      <td>0.003856</td>\n",
       "    </tr>\n",
       "    <tr>\n",
       "      <th>6</th>\n",
       "      <td>Bacteroides massiliensis</td>\n",
       "      <td>0.003327</td>\n",
       "    </tr>\n",
       "    <tr>\n",
       "      <th>7</th>\n",
       "      <td>Sutterella wadsworthensis</td>\n",
       "      <td>0.003230</td>\n",
       "    </tr>\n",
       "    <tr>\n",
       "      <th>8</th>\n",
       "      <td>Prevotella copri</td>\n",
       "      <td>0.002498</td>\n",
       "    </tr>\n",
       "    <tr>\n",
       "      <th>9</th>\n",
       "      <td>Barnesiella intestinihominis</td>\n",
       "      <td>0.002216</td>\n",
       "    </tr>\n",
       "  </tbody>\n",
       "</table>\n",
       "</div>"
      ],
      "text/plain": [
       "                       features      impt\n",
       "0         Klebsiella pneumoniae  0.022613\n",
       "1      Bacteroides intestinalis  0.010920\n",
       "2         Bacteroides stercoris  0.005639\n",
       "3     Bacteroides pectinophilus  0.003882\n",
       "4    Streptococcus thermophilus  0.003866\n",
       "5            Ruminococcus obeum  0.003856\n",
       "6      Bacteroides massiliensis  0.003327\n",
       "7     Sutterella wadsworthensis  0.003230\n",
       "8              Prevotella copri  0.002498\n",
       "9  Barnesiella intestinihominis  0.002216"
      ]
     },
     "execution_count": 113,
     "metadata": {},
     "output_type": "execute_result"
    }
   ],
   "source": [
    "temp2[:10]"
   ]
  },
  {
   "cell_type": "code",
   "execution_count": 115,
   "id": "7c7da39e",
   "metadata": {},
   "outputs": [],
   "source": [
    "temp2.to_csv('obs_avg_impt.csv', index_label=None)"
   ]
  },
  {
   "cell_type": "code",
   "execution_count": 150,
   "id": "073af72e",
   "metadata": {},
   "outputs": [],
   "source": [
    "# dataframe of impt bacteria and permutation importance\n",
    "\n",
    "# grad_perm = pd.DataFrame(columns = ['Features','importances_mean', 'importances_std'])\n",
    "# grad_perm['Features'] = species\n",
    "# grad_perm['importances_mean'] = grad_importance['importances_mean']\n",
    "# grad_perm['importances_std'] = grad_importance['importances_std']\n",
    "# grad_perm = grad_perm[grad_perm['importances_mean'] > 0].copy()\n",
    "# grad_perm.sort_values(by='importances_mean', ascending=False, inplace=True, ignore_index=True)"
   ]
  },
  {
   "cell_type": "code",
   "execution_count": 78,
   "id": "c2715239",
   "metadata": {},
   "outputs": [
    {
     "data": {
      "text/plain": [
       "'Streptococcus australis'"
      ]
     },
     "execution_count": 78,
     "metadata": {},
     "output_type": "execute_result"
    }
   ],
   "source": [
    "test = list(temp2[:11]['features'])\n",
    "\n",
    "test.pop(8)"
   ]
  },
  {
   "cell_type": "code",
   "execution_count": 80,
   "id": "b4ade965",
   "metadata": {},
   "outputs": [],
   "source": [
    "# dataframe with all data including BMI, country etc\n",
    "\n",
    "stuff = list(processed.columns[:7]) + test + ['label']\n",
    "\n",
    "grad_stuff = processed[stuff]"
   ]
  },
  {
   "cell_type": "code",
   "execution_count": 82,
   "id": "a22af53f",
   "metadata": {},
   "outputs": [],
   "source": [
    "# changing labels for control and obese\n",
    "\n",
    "#grad_stuff = grad_means.copy()\n",
    "\n",
    "grad_stuff['label'][grad_stuff['label'] == 1] = 'Obese'\n",
    "\n",
    "grad_stuff['label'][grad_stuff['label'] == 0] = 'Ctrl'"
   ]
  },
  {
   "cell_type": "code",
   "execution_count": 89,
   "id": "49a9f463",
   "metadata": {},
   "outputs": [],
   "source": [
    "# calculate mean species abundance for each species\n",
    "\n",
    "means = grad_stuff.groupby(by = 'label').mean().iloc[:,1:]\n",
    "\n",
    "# create a dataframe for mean abundance\n",
    "\n",
    "grad_means = pd.DataFrame(columns = ['Bacteria','Ctrl','Obese'])\n",
    "\n",
    "grad_means['Bacteria'] = test\n",
    "grad_means['Ctrl'] = list(means.iloc[0, :10])\n",
    "grad_means['Obese'] = list(means.iloc[1, :10])"
   ]
  },
  {
   "cell_type": "code",
   "execution_count": 123,
   "id": "fe5827b0",
   "metadata": {},
   "outputs": [],
   "source": [
    "mann = []\n",
    "\n",
    "for i in test:\n",
    "    ctrl = grad_stuff[i][grad_stuff['label'] == 'Ctrl']\n",
    "    fat = grad_stuff[i][grad_stuff['label'] == 'Obese']\n",
    "    mann.append(sp.stats.mannwhitneyu(ctrl, fat))"
   ]
  },
  {
   "cell_type": "code",
   "execution_count": 133,
   "id": "df2cb297",
   "metadata": {},
   "outputs": [
    {
     "data": {
      "text/plain": [
       "[MannwhitneyuResult(statistic=50021.0, pvalue=5.743462986209846e-29),\n",
       " MannwhitneyuResult(statistic=56065.0, pvalue=1.0373227210850577e-13),\n",
       " MannwhitneyuResult(statistic=53000.5, pvalue=4.4726913092891246e-14),\n",
       " MannwhitneyuResult(statistic=54095.0, pvalue=1.7819259764379774e-13),\n",
       " MannwhitneyuResult(statistic=74871.0, pvalue=0.0913742088911158),\n",
       " MannwhitneyuResult(statistic=56985.0, pvalue=3.5359461021296864e-11),\n",
       " MannwhitneyuResult(statistic=76291.5, pvalue=0.3969552609320985),\n",
       " MannwhitneyuResult(statistic=54231.0, pvalue=4.563468300691354e-13),\n",
       " MannwhitneyuResult(statistic=76269.0, pvalue=0.40894672831154855),\n",
       " MannwhitneyuResult(statistic=72018.0, pvalue=0.06459181295598002)]"
      ]
     },
     "execution_count": 133,
     "metadata": {},
     "output_type": "execute_result"
    }
   ],
   "source": [
    "mann"
   ]
  },
  {
   "cell_type": "code",
   "execution_count": null,
   "id": "be60504e",
   "metadata": {},
   "outputs": [],
   "source": [
    "ind = np.arange(len(grad_means))\n",
    "\n",
    "width = 0.4\n",
    "\n",
    "fig, ax = plt.subplots(figsize = (16,10))\n",
    "\n",
    "color = ['royalblue', 'orange']\n",
    "ax.barh(ind, grad_means.Ctrl, width, color = color[1], label = 'Ctrl', edgecolor ='black')\n",
    "ax.barh(ind + width, grad_means.Obese, width, color = color[0], label = 'Obese', edgecolor ='black')\n",
    "ax.set(yticks = ind + width/2, yticklabels = grad_means.Bacteria)\n",
    "#ax.set_title('Mea', fontsize = 18, fontweight='bold', pad=20)\n",
    "#ax.set_xscale('log')\n",
    "ax.set_ylabel('Species', fontsize = 18, fontweight='bold')\n",
    "ax.set_xlabel(\"Relative Abundance\", fontsize = 18, fontweight = 'bold', labelpad = 20)\n",
    "ax.legend(loc='lower right', fontsize = 'x-large')\n",
    "ax.tick_params(axis='both', labelsize = 14)\n",
    "plt.gca().invert_yaxis()\n",
    "\n",
    "plt.savefig('Grad_impt_abundance.png', dpi=200, bbox_inches = \"tight\")\n",
    "\n",
    "plt.show()"
   ]
  },
  {
   "cell_type": "code",
   "execution_count": null,
   "id": "63c41a7d",
   "metadata": {},
   "outputs": [],
   "source": [
    "plt.figure(figsize=(12,8))\n",
    "\n",
    "plt.plot(temp2['impt'])\n",
    "\n",
    "plt.xlabel('Species', fontsize = 16, fontweight = 'bold', labelpad=10)\n",
    "plt.tick_params(axis='both', labelsize=10)\n",
    "\n",
    "plt.ylabel('Permutation Importance', fontsize = 16, fontweight = 'bold', labelpad=10)\n",
    "\n",
    "plt.tight_layout()\n",
    "\n",
    "plt.savefig('grad_perm_impt_line.png', dpi=200)"
   ]
  },
  {
   "cell_type": "code",
   "execution_count": 93,
   "id": "590ed5eb",
   "metadata": {},
   "outputs": [
    {
     "data": {
      "text/plain": [
       "['Klebsiella pneumoniae',\n",
       " 'Bacteroides intestinalis',\n",
       " 'Dorea longicatena',\n",
       " 'Bacteroides stercoris',\n",
       " 'Bacteroides pectinophilus',\n",
       " 'Bacteroides massiliensis',\n",
       " 'Clostridium sp L2 50',\n",
       " 'Barnesiella intestinihominis',\n",
       " 'Streptococcus thermophilus',\n",
       " 'Ruminococcus obeum']"
      ]
     },
     "execution_count": 93,
     "metadata": {},
     "output_type": "execute_result"
    }
   ],
   "source": [
    "test"
   ]
  },
  {
   "cell_type": "markdown",
   "id": "b6e75f7e",
   "metadata": {},
   "source": [
    "grad_perm = perm_impt[['Features','Grad']].copy()\n",
    "\n",
    "grad_perm = grad_perm[grad_perm['Grad'] > 0].copy()\n",
    "\n",
    "# sort from highest to lowest importance\n",
    "grad_perm.sort_values(by='Grad', ascending=False, inplace=True, ignore_index=True)\n",
    "\n",
    "impt_features = grad_perm['Features'].copy()\n",
    "\n",
    "\n",
    "regex to shorten species names\n",
    "\n",
    "c = re.compile(r's__(\\w+)')\n",
    "\n",
    "short = []\n",
    "\n",
    "for i in grad_perm['Features']:\n",
    "    short.append( c.search(i).group(1).replace(\"_\", \" \"))\n",
    "    \n",
    "grad_perm['Features'] = short\n",
    "\n",
    "\n",
    "create a list of features we want from the original data\n",
    "stuff = list(processed.columns[:7]) + list(impt_features) + ['label']\n",
    "\n",
    "# filter the original dataset\n",
    "\n",
    "grad_stuff = processed[stuff].copy()\n",
    "\n",
    "# change bacteria name to be shorter\n",
    "new = dict(zip(impt_features, short))\n",
    "\n",
    "grad_stuff.rename(columns = new, inplace=True)\n",
    "\n",
    "# changing labels for control and obese\n",
    "grad_stuff['label'][grad_stuff['label'] == 1] = 'Obese'\n",
    "\n",
    "grad_stuff['label'][grad_stuff['label'] == 0] = 'Ctrl'"
   ]
  },
  {
   "cell_type": "markdown",
   "id": "2713d889",
   "metadata": {},
   "source": [
    "# calculate mean species abundance for each species\n",
    "\n",
    "means = grad_stuff.groupby(by = 'label').mean().iloc[:,1:]\n",
    "\n",
    "# create a dataframe for mean abundance\n",
    "\n",
    "grad_means = pd.DataFrame(columns = ['Bacteria','Ctrl','Obese'])\n",
    "\n",
    "grad_means['Bacteria'] = short\n",
    "grad_means['Ctrl'] = list(means.iloc[0, :])\n",
    "grad_means['Obese'] = list(means.iloc[1, :])"
   ]
  },
  {
   "cell_type": "markdown",
   "id": "423a33a6",
   "metadata": {},
   "source": [
    "# plots permutation importance and abundance\n",
    "\n",
    "fig, ax = plt.subplots(1,2, figsize=(16,10))\n",
    "\n",
    "\n",
    "ax[0].plot(grad_perm['Grad'])\n",
    "ax[0].set_xlabel('Species', fontsize=18, labelpad = 10)\n",
    "ax[0].set_ylabel('Permutation importance', fontsize=18, labelpad = 10)\n",
    "ax[0].tick_params(axis=\"both\", labelsize=14)\n",
    "\n",
    "ax[1].scatter([range(len(grad_perm))], grad_means['Ctrl'])\n",
    "ax[1].scatter([range(len(grad_perm))], grad_means['Obese'])\n",
    "ax[1].set_xlabel('Species', fontsize=18, labelpad = 10)\n",
    "ax[1].set_ylabel('Species Abundance', fontsize=18, labelpad = 5)\n",
    "ax[1].tick_params(axis=\"both\", labelsize=14)\n",
    "ax[1].legend(['Control','Obese'], fontsize = 'xx-large')\n",
    "\n",
    "plt.tight_layout()\n",
    "plt.savefig('grad_perm_importance.png', dpi=150)\n",
    "plt.show()\n"
   ]
  },
  {
   "cell_type": "markdown",
   "id": "1a0cf40e",
   "metadata": {},
   "source": [
    "### Comparison plots for the 11 common ones ###"
   ]
  },
  {
   "cell_type": "code",
   "execution_count": 66,
   "id": "bdea9308",
   "metadata": {},
   "outputs": [],
   "source": [
    "# this one basically finds the common species in all models\n",
    "common = [i for i in species if (i in forest_impt) and (i in grad_impt) and (i in ada_impt)]\n",
    "\n",
    "# this one is to remove the s__ in the species names\n",
    "c = re.compile(r's__(\\w+)')\n",
    "\n",
    "short = []\n",
    "\n",
    "for i in common:\n",
    "    short.append( c.search(i).group(1).replace(\"_\", \" \"))"
   ]
  },
  {
   "cell_type": "code",
   "execution_count": 68,
   "id": "ae3e0a39",
   "metadata": {},
   "outputs": [],
   "source": [
    "# filers the feature importance table to see the 8 common species got what coefficient\n",
    "\n",
    "common_impt = perm_impt[perm_impt['Features'].isin(common)]"
   ]
  },
  {
   "cell_type": "code",
   "execution_count": 69,
   "id": "96dae53d",
   "metadata": {},
   "outputs": [],
   "source": [
    "# create a new table from the original table that consists of the 8 common bacteria and the other info\n",
    "\n",
    "common_only = processed[(list(processed.columns[:7]) + common + ['label'])]\n",
    "\n",
    "common_only['label'][common_only['label'] == 1] = 'Obese'\n",
    "\n",
    "common_only['label'][common_only['label'] == 0] = 'Ctrl'\n",
    "\n",
    "# rename the columns to the shortened bacteria name \n",
    "common_only.rename(columns = dict(zip(common_only.columns[7:-1], short)), inplace =True)\n",
    "\n",
    "\n",
    "# create 2 dataframes with mean and std dev for each species and BMI\n",
    "\n",
    "means = common_only.groupby(by = 'label').mean().iloc[:,1:]\n",
    "error = common_only.groupby(by = 'label').std().iloc[:,1:]"
   ]
  },
  {
   "cell_type": "code",
   "execution_count": 70,
   "id": "65eefe01",
   "metadata": {},
   "outputs": [],
   "source": [
    "#  creates a dataframe with species name, then the mean species abundance for controls and obese groups then plot a barchart\n",
    "\n",
    "compare_means = pd.DataFrame(columns = ['Bacteria','Ctrl','Obese'])\n",
    "\n",
    "compare_means['Bacteria'] = short\n",
    "compare_means['Ctrl'] = list(means.iloc[0, :])\n",
    "compare_means['Obese'] = list(means.iloc[1, :])\n",
    "\n",
    "# compare_means.plot(x = 'Bacteria', y = ['Ctrl', 'Obese'], kind='barh', title = 'All', logx=True, figsize = (14,8), \n",
    "#                    xlabel = 'Mean Relative Abundance', ylabel = 'Bacteria', fontsize=14)"
   ]
  },
  {
   "cell_type": "code",
   "execution_count": null,
   "id": "a8add7bb",
   "metadata": {},
   "outputs": [],
   "source": [
    "create_summary(common_only, list(common_only['country']))"
   ]
  },
  {
   "cell_type": "code",
   "execution_count": null,
   "id": "31058e68",
   "metadata": {},
   "outputs": [],
   "source": [
    "create_summary(common_only, ['china'], name= \"China\", filename = 'china_8_common.png')"
   ]
  },
  {
   "cell_type": "code",
   "execution_count": 74,
   "id": "beff5ab8",
   "metadata": {},
   "outputs": [],
   "source": [
    "# this functions calculates the mean of the relative abundance and plots barcharts. \n",
    "# Take note that it uses some variables that were declared earlier, so it is not entirely standalone. No need to remove the categorical stuff\n",
    "# since groupby removes them\n",
    "\n",
    "def create_summary(dataframe, group, name = 'Unnamed', filename = ('Unnamed' + '.png'), color = ['royalblue', 'orange']):\n",
    "\n",
    "    #create new DF with the group of interest\n",
    "    grouped = dataframe[dataframe['country'].isin(group)].copy()\n",
    "    \n",
    "    # create 2 dataframes with mean and std dev for each species and BMI\n",
    "\n",
    "    g_means = grouped.groupby(by = 'label').mean().iloc[:,1:]\n",
    "    g_error = grouped.groupby(by = 'label').std().iloc[:,1:]\n",
    "\n",
    "    #  creates a dataframe with species name, then the mean species abundance for controls and obese groups then plot a barchart\n",
    "\n",
    "    grouped_means = pd.DataFrame(columns = ['Bacteria','Ctrl','Obese'])\n",
    "\n",
    "    grouped_means['Bacteria'] = short\n",
    "    grouped_means['Ctrl'] = list(g_means.iloc[0, :])\n",
    "    grouped_means['Obese'] = list(g_means.iloc[1, :])\n",
    "\n",
    "    ind = np.arange(len(grouped_means))\n",
    "\n",
    "    width = 0.4\n",
    "\n",
    "    fig, ax = plt.subplots(figsize = (16,10))\n",
    "\n",
    "\n",
    "    ax.barh(ind, grouped_means.Obese, width, color = color[0], label = 'Obese')\n",
    "    ax.barh(ind + width, grouped_means.Ctrl, width, color = color[1], label = 'Ctrl')\n",
    "    ax.set(yticks = ind + width, yticklabels = grouped_means.Bacteria)\n",
    "    ax.set_title(name, fontsize = 18, fontweight='bold', pad=20)\n",
    "    ax.set_xscale('log')\n",
    "    ax.set_ylabel('Species', fontsize = 18, fontweight='bold')\n",
    "    ax.set_xlabel(\"Log Relative Abundance\", fontsize = 18, fontweight = 'bold', labelpad = 20)\n",
    "    ax.legend(loc='lower right', fontsize = 'x-large')\n",
    "    ax.tick_params(axis='both', labelsize = 14)\n",
    "    plt.gca().invert_yaxis()\n",
    "    \n",
    "    #plt.savefig(filename, dpi=150, bbox_inches = \"tight\")\n",
    "    \n",
    "    plt.show()"
   ]
  },
  {
   "cell_type": "code",
   "execution_count": null,
   "id": "34d7131c",
   "metadata": {},
   "outputs": [],
   "source": [
    "create_summary(common_only, ['china'], name= \"China\", filename = 'china_8_common.png')"
   ]
  },
  {
   "cell_type": "markdown",
   "id": "b917ab00",
   "metadata": {},
   "source": []
  },
  {
   "cell_type": "markdown",
   "id": "ed078e32",
   "metadata": {
    "tags": []
   },
   "source": [
    "### Random Forest feature analysis ### "
   ]
  },
  {
   "cell_type": "code",
   "execution_count": 98,
   "id": "cfc2fa53",
   "metadata": {},
   "outputs": [],
   "source": [
    "test = processed.iloc[:, 7:-1].corr()"
   ]
  },
  {
   "cell_type": "code",
   "execution_count": 107,
   "id": "d129d9d3",
   "metadata": {},
   "outputs": [],
   "source": [
    "test.fillna(0, inplace=True)"
   ]
  },
  {
   "cell_type": "code",
   "execution_count": null,
   "id": "afa804a5",
   "metadata": {},
   "outputs": [],
   "source": [
    "f, ax = plt.subplots(figsize=(11, 9))\n",
    "cmap = sns.diverging_palette(230, 20, as_cmap=True)\n",
    "sns.heatmap(test, xticklabels=False, yticklabels =False, cmap = cmap)"
   ]
  },
  {
   "cell_type": "code",
   "execution_count": null,
   "id": "7d2714ae",
   "metadata": {},
   "outputs": [],
   "source": [
    "data['dataset_name'].value_counts()"
   ]
  },
  {
   "cell_type": "code",
   "execution_count": 44,
   "id": "c10cd3c6",
   "metadata": {},
   "outputs": [],
   "source": [
    "# create dataframe that contains all impt features from random forest model and sort them\n",
    "\n",
    "forest_perm = perm_impt[['Features','Forest']].copy()\n",
    "\n",
    "forest_perm = forest_perm[forest_perm['Forest'] > 0].copy()\n",
    "\n",
    "forest_perm.sort_values(by='Forest', ascending=False, inplace=True, ignore_index=True)\n",
    "\n",
    "impt_features = forest_perm['Features'].copy()\n",
    "\n",
    "\n",
    "# regex to shorten species names\n",
    "\n",
    "c = re.compile(r's__(\\w+)')\n",
    "\n",
    "short = []\n",
    "\n",
    "for i in forest_perm['Features']:\n",
    "    short.append( c.search(i).group(1).replace(\"_\", \" \"))\n",
    "\n",
    "forest_perm['Features'] = short\n",
    "\n",
    "# create a list of features we want from the original data\n",
    "stuff = list(processed.columns[:7]) + list(impt_features) + ['label']\n",
    "\n",
    "# filter the original dataset\n",
    "\n",
    "forest_stuff = processed[stuff].copy()\n",
    "\n",
    "# change bacteria name to be shorter\n",
    "new = dict(zip(impt_features, short))\n",
    "\n",
    "forest_stuff.rename(columns = new, inplace=True)\n",
    "\n",
    "# changing labels for control and obese\n",
    "forest_stuff['label'][forest_stuff['label'] == 1] = 'Obese'\n",
    "\n",
    "forest_stuff['label'][forest_stuff['label'] == 0] = 'Ctrl'\n"
   ]
  },
  {
   "cell_type": "code",
   "execution_count": 40,
   "id": "4ea34170",
   "metadata": {},
   "outputs": [],
   "source": [
    "# calculate mean species abundance for each species\n",
    "\n",
    "means = forest_stuff.groupby(by = 'label').mean().iloc[:,1:]\n",
    "\n",
    "# create a dataframe for mean abundance\n",
    "\n",
    "forest_means = pd.DataFrame(columns = ['Bacteria','Ctrl','Obese'])\n",
    "\n",
    "forest_means['Bacteria'] = short\n",
    "forest_means['Ctrl'] = list(means.iloc[0, :])\n",
    "forest_means['Obese'] = list(means.iloc[1, :])\n",
    "\n"
   ]
  },
  {
   "cell_type": "code",
   "execution_count": null,
   "id": "a8ae4dea",
   "metadata": {},
   "outputs": [],
   "source": [
    "# dual plot of perm importance and species abundance\n",
    "\n",
    "fig, ax = plt.subplots(1,2, figsize=(16,10))\n",
    "\n",
    "\n",
    "ax[0].plot(forest_perm['Forest'])\n",
    "ax[0].set_xlabel('Species', fontsize=18, labelpad = 10)\n",
    "ax[0].set_ylabel('Permutation importance', fontsize=18, labelpad = 10)\n",
    "ax[0].tick_params(axis=\"both\", labelsize=14)\n",
    "\n",
    "ax[1].scatter([range(35)], forest_means['Ctrl'])\n",
    "ax[1].scatter([range(35)], forest_means['Obese'])\n",
    "ax[1].set_xlabel('Species', fontsize=18, labelpad = 10)\n",
    "ax[1].set_ylabel('Species Abundance', fontsize=18, labelpad = 5)\n",
    "ax[1].tick_params(axis=\"both\", labelsize=14)\n",
    "ax[1].legend(['Control','Obese'], fontsize = 'xx-large')\n",
    "\n",
    "plt.tight_layout()\n",
    "plt.savefig('forest_perm_importance.png', dpi=150)\n",
    "plt.show()\n"
   ]
  },
  {
   "cell_type": "code",
   "execution_count": 54,
   "id": "78eb3f40",
   "metadata": {},
   "outputs": [],
   "source": [
    "# plot barchart\n",
    "\n",
    "create_summary(forest_stuff, list(forest_stuff['country'].unique()), name='forest')\n",
    "\n",
    "eu = ['denmark', 'spain', 'sweden', 'germany','france', 'iceland']\n",
    "\n",
    "# create_summary(forest_stuff, eu, name='forest')"
   ]
  },
  {
   "cell_type": "code",
   "execution_count": 55,
   "id": "c5126e8f",
   "metadata": {
    "tags": []
   },
   "outputs": [],
   "source": [
    "# find the common and different points\n",
    "\n",
    "# create dataframe of the EU and CN data and obtain their means\n",
    "eu_only = forest_stuff[forest_stuff['country'].isin(eu)]\n",
    "\n",
    "cn_only = forest_stuff[forest_stuff['country'].isin(['china'])]\n",
    "\n",
    "eu_mean = eu_only.groupby(by='label').mean().drop(columns = 'bmi').transpose().reset_index()\n",
    "\n",
    "cn_mean = cn_only.groupby(by='label').mean().drop(columns = 'bmi').transpose().reset_index()\n",
    "\n",
    "eu_mean['ctrl_larger'] = eu_mean['Ctrl'] > eu_mean['Obese']\n",
    "\n",
    "cn_mean['ctrl_larger'] = cn_mean['Ctrl'] > cn_mean['Obese']\n",
    "\n",
    "# agreement dataframe\n",
    "\n",
    "eu_mean['agreement'] = eu_mean['ctrl_larger'] & cn_mean['ctrl_larger']\n",
    "\n",
    "agreed = eu_mean[['index','agreement']][eu_mean['agreement'] == True].copy()"
   ]
  },
  {
   "cell_type": "code",
   "execution_count": 57,
   "id": "05139fc3",
   "metadata": {},
   "outputs": [],
   "source": [
    "# common and differences for the EU countries\n",
    "\n",
    "den = forest_stuff[forest_stuff['country'].isin(['denmark'])]\n",
    "\n",
    "#france = forest_stuff[forest_stuff['country'].isin(['france'])]\n",
    "\n",
    "den_mean = den.groupby(by='label').mean().drop(columns = 'bmi').transpose().reset_index()\n",
    "\n",
    "#france_mean = france.groupby(by='label').mean().drop(columns = 'bmi').transpose().reset_index()\n",
    "\n",
    "den_mean['ctrl_larger'] = den_mean['Ctrl'] > den_mean['Obese']\n",
    "\n",
    "#france_mean['ctrl_larger'] = france_mean['Ctrl'] > france_mean['Obese']\n",
    "\n",
    "# agreement dataframe\n",
    "\n",
    "den_mean['agreement'] = den_mean['ctrl_larger'] & cn_mean['ctrl_larger']\n",
    "\n",
    "#agreed = eu_mean[['index','agreement']][eu_mean['agreement'] == True].copy()"
   ]
  },
  {
   "cell_type": "code",
   "execution_count": null,
   "id": "9350c672",
   "metadata": {},
   "outputs": [],
   "source": [
    "#create new DF with the group of interest\n",
    "\n",
    "# grouped = forest_stuff[ list(agreed['index']) + ['label'] ]\n",
    "\n",
    "# create 2 dataframes with mean and std dev for each species and BMI\n",
    "\n",
    "# g_means = grouped.groupby(by='label').mean().iloc[:,:]\n",
    "# g_error = grouped.groupby(by= 'label').std().iloc[:,:]\n",
    "\n",
    "#  creates a dataframe with species name, then the mean species abundance for controls and obese groups then plot a barchart\n",
    "\n",
    "# grouped_means = pd.DataFrame(columns = ['Bacteria','Ctrl','Obese'])\n",
    "\n",
    "# grouped_means['Bacteria'] = list(grouped.columns[:-1])\n",
    "# grouped_means['Ctrl'] = list(g_means.iloc[0, :])\n",
    "# grouped_means['Obese'] = list(g_means.iloc[1, :])\n",
    "\n",
    "ind = np.arange(len(grouped_means))\n",
    "\n",
    "width = 0.4\n",
    "\n",
    "fig, ax = plt.subplots(figsize = (16,10))\n",
    "\n",
    "color = ['royalblue', 'orange']\n",
    "ax.barh(ind, grouped_means.Obese, width, color = color[0], label = 'Obese')\n",
    "ax.barh(ind + width, grouped_means.Ctrl, width, color = color[1], label = 'Ctrl')\n",
    "ax.set(yticks = ind + width, yticklabels = grouped_means.Bacteria)\n",
    "ax.set_title('test', fontsize = 18, fontweight='bold', pad=20)\n",
    "ax.set_xscale('log')\n",
    "ax.set_ylabel('Species', fontsize = 18, fontweight='bold')\n",
    "ax.set_xlabel(\"Log Relative Abundance\", fontsize = 18, fontweight = 'bold', labelpad = 20)\n",
    "ax.legend(loc='lower right', fontsize = 'x-large')\n",
    "ax.tick_params(axis='both', labelsize = 14)\n",
    "plt.gca().invert_yaxis()\n",
    "\n",
    "# #plt.savefig(filename, dpi=150, bbox_inches = \"tight\")\n",
    "\n",
    "plt.show()"
   ]
  },
  {
   "cell_type": "code",
   "execution_count": null,
   "id": "56a60d99",
   "metadata": {},
   "outputs": [],
   "source": [
    "eu_mean['label'][eu_mean['agreement']==True]"
   ]
  },
  {
   "cell_type": "code",
   "execution_count": 78,
   "id": "99de5a50",
   "metadata": {},
   "outputs": [],
   "source": [
    "# let's try comparing importance with abundance\n",
    "\n",
    "forest_perm['relative_impt'] = forest_perm['Forest'].div(forest_perm['Forest'].sum(), axis=0)"
   ]
  }
 ],
 "metadata": {
  "interpreter": {
   "hash": "5b307bc06ee03d492b8ae7f1894ab7599cb3dc5161a57cd150c20ebfadc34ed8"
  },
  "kernelspec": {
   "display_name": "Python 3.8.12 ('everything')",
   "language": "python",
   "name": "python3"
  },
  "language_info": {
   "codemirror_mode": {
    "name": "ipython",
    "version": 3
   },
   "file_extension": ".py",
   "mimetype": "text/x-python",
   "name": "python",
   "nbconvert_exporter": "python",
   "pygments_lexer": "ipython3",
   "version": "3.8.12"
  }
 },
 "nbformat": 4,
 "nbformat_minor": 5
}
